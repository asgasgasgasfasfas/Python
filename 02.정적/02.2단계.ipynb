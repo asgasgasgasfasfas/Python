{
 "cells": [
  {
   "cell_type": "code",
   "execution_count": 1,
   "metadata": {},
   "outputs": [
    {
     "name": "stdout",
     "output_type": "stream",
     "text": [
      "앞면 3번 나올 확률의 평균 비용: 390.00 원\n",
      "앞면 4번 나올 확률의 평균 비용: 627.25 원\n",
      "앞면 5번 나올 확률의 평균 비용: 809.25 원\n",
      "앞면 6번 나올 확률의 평균 비용: 672.75 원\n",
      "앞면 7번 나올 확률의 평균 비용: 393.25 원\n",
      "앞면 8번 나올 확률의 평균 비용: 146.25 원\n",
      "앞면 9번 나올 확률의 평균 비용: 26.00 원\n",
      "앞면 10번 나올 확률의 평균 비용: 6.50 원\n"
     ]
    }
   ],
   "source": [
    "import random\n",
    "\n",
    "def coin_flip():\n",
    "    return random.choice([\"H\", \"T\"])  # H: 앞면, T: 뒷면\n",
    "\n",
    "def simulate():\n",
    "    total_costs = {i: 0 for i in range(3, 11)}  # 앞면 횟수별 비용 합계\n",
    "    trials = 1000  # 실험 횟수\n",
    "    \n",
    "    for _ in range(trials):\n",
    "        num_heads = sum(1 for _ in range(10) if coin_flip() == \"H\")  # 10번 던지기\n",
    "        if num_heads >= 3:  # 3번 이상 앞면이 나온 경우만 비용 계산\n",
    "            cost = sum(100 + 50 * i for i in range(10))  # 100, 150, ..., 550까지 합산\n",
    "            total_costs[num_heads] += cost\n",
    "    \n",
    "    # 평균 비용 계산\n",
    "    avg_costs = {k: total_costs[k] / trials for k in total_costs}\n",
    "    return avg_costs\n",
    "\n",
    "# 실행 및 결과 출력\n",
    "average_costs = simulate()\n",
    "for heads, cost in average_costs.items():\n",
    "    print(f\"앞면 {heads}번 나올 확률의 평균 비용: {cost:.2f} 원\")\n"
   ]
  }
 ],
 "metadata": {
  "kernelspec": {
   "display_name": "Python 3",
   "language": "python",
   "name": "python3"
  },
  "language_info": {
   "codemirror_mode": {
    "name": "ipython",
    "version": 3
   },
   "file_extension": ".py",
   "mimetype": "text/x-python",
   "name": "python",
   "nbconvert_exporter": "python",
   "pygments_lexer": "ipython3",
   "version": "3.13.1"
  }
 },
 "nbformat": 4,
 "nbformat_minor": 2
}
