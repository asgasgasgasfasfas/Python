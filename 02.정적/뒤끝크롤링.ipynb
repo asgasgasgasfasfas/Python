{
 "cells": [
  {
   "cell_type": "code",
   "execution_count": 2,
   "metadata": {},
   "outputs": [
    {
     "name": "stdout",
     "output_type": "stream",
     "text": [
      "❌ 로그인 실패: 404\n"
     ]
    }
   ],
   "source": [
    "import requests\n",
    "\n",
    "# ✅ 세션 생성\n",
    "session = requests.Session()\n",
    "\n",
    "# ✅ 로그인 정보\n",
    "login_url = \"https://api.backendless.com/v1/user/login\"  # 뒤끝 로그인 API 엔드포인트\n",
    "user_data = {\n",
    "    \"loginId\": \"YOUR_USERNAME\",\n",
    "    \"password\": \"YOUR_PASSWORD\"\n",
    "}\n",
    "\n",
    "# ✅ 로그인 요청\n",
    "login_response = session.post(login_url, json=user_data)\n",
    "\n",
    "if login_response.status_code == 200:\n",
    "    print(\"✅ 로그인 성공\")\n",
    "\n",
    "    # ✅ 로그인 성공 후 데이터 페이지 접속\n",
    "    data_url = \"https://console.thebackend.io/ko/project/1ea3f14d34e89530ea88b3245bc82dc17d5f52ce1554049f19fce9219a847cfce18bb8891c9ffe90bc65e2b9a3b981853fc5513c1dd200afc9590ba6bfd5fced4230647d25328849e0917641/baseGameInfo/data\"\n",
    "    data_response = session.get(data_url)\n",
    "\n",
    "    if data_response.status_code == 200:\n",
    "        print(\"✅ 데이터 페이지 접속 성공\")\n",
    "        print(data_response.text)\n",
    "    else:\n",
    "        print(\"❌ 데이터 페이지 접속 실패:\", data_response.status_code)\n",
    "\n",
    "else:\n",
    "    print(\"❌ 로그인 실패:\", login_response.status_code)\n"
   ]
  }
 ],
 "metadata": {
  "kernelspec": {
   "display_name": "Python 3",
   "language": "python",
   "name": "python3"
  },
  "language_info": {
   "codemirror_mode": {
    "name": "ipython",
    "version": 3
   },
   "file_extension": ".py",
   "mimetype": "text/x-python",
   "name": "python",
   "nbconvert_exporter": "python",
   "pygments_lexer": "ipython3",
   "version": "3.13.1"
  }
 },
 "nbformat": 4,
 "nbformat_minor": 2
}
