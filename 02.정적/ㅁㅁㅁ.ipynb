{
 "cells": [
  {
   "cell_type": "code",
   "execution_count": 3,
   "metadata": {},
   "outputs": [
    {
     "name": "stdout",
     "output_type": "stream",
     "text": [
      "9단계 - 유저 동작 계산 시작\n",
      "9단계 - 평균값 : 3250.0\n",
      "10단계 성공 횟수: 0\n",
      "9단계 성공 횟수: 1220831\n",
      "8단계 성공 횟수: 0\n"
     ]
    }
   ],
   "source": [
    "import random\n",
    "\n",
    "# 변수 초기화\n",
    "count10 = 0\n",
    "count9 = 0\n",
    "count8 = 0\n",
    "\n",
    "targetNum = 9  # 목표 단계\n",
    "failCount = 0\n",
    "successCount = 0\n",
    "treasureAllPiece = 0\n",
    "\n",
    "# 확률 및 조각 개수 배열\n",
    "treasureRandom = [49] * 10  # 성공 확률 49%로 고정\n",
    "treasurePiece = [100 + (i * 50) for i in range(10)]  # 100부터 50씩 증가\n",
    "\n",
    "# 유물 평균값 변수\n",
    "treasureCount = 0\n",
    "value = 0\n",
    "\n",
    "def run_simulation():\n",
    "    global targetNum, failCount, successCount, treasureAllPiece, treasureCount, value\n",
    "    global count10, count9, count8\n",
    "\n",
    "    print(f\"{targetNum}단계 - 유저 동작 계산 시작\")\n",
    "\n",
    "    while treasureCount < 1000:\n",
    "        # 초기화\n",
    "        successCount = 0\n",
    "        failCount = 0\n",
    "        treasureAllPiece = 0  # 매번 초기화 필요\n",
    "\n",
    "        for i in range(10):\n",
    "            tempRandom = random.randint(1, 100)  # 1~100 난수 생성\n",
    "            if successCount < len(treasurePiece):\n",
    "                treasureAllPiece += treasurePiece[successCount]  # 소모되는 조각\n",
    "\n",
    "            # 단계별 카운트 증가\n",
    "            if targetNum == 10:\n",
    "                count10 += 1\n",
    "            elif targetNum == 9:\n",
    "                count9 += 1\n",
    "            elif targetNum == 8:\n",
    "                count8 += 1\n",
    "\n",
    "            # 성공 확률 확인 (배열 범위 초과 방지)\n",
    "            if successCount < len(treasureRandom) and tempRandom <= treasureRandom[successCount]:\n",
    "                successCount += 1\n",
    "            else:\n",
    "                failCount += 1\n",
    "                if targetNum == (10 - failCount):\n",
    "                    failCount = 0\n",
    "                    break\n",
    "\n",
    "        # 목표 단계에 도달하면 유물 사용량 누적\n",
    "        if targetNum <= successCount:\n",
    "            treasureCount += 1  # 1000번 실행을 위해 카운트\n",
    "            value += treasureAllPiece  # 조각 사용량 추가\n",
    "\n",
    "            failCount = 0\n",
    "            successCount = 0\n",
    "            treasureAllPiece = 0  # 다시 초기화\n",
    "\n",
    "    # 평균값 출력 (ZeroDivision 방지)\n",
    "    avg_value = value / treasureCount if treasureCount > 0 else \"계산 불가\"\n",
    "    print(f\"{targetNum}단계 - 평균값 : {avg_value}\")\n",
    "\n",
    "    # 단계별 카운트 출력\n",
    "    print(f\"10단계 성공 횟수: {count10}\")\n",
    "    print(f\"9단계 성공 횟수: {count9}\")\n",
    "    print(f\"8단계 성공 횟수: {count8}\")\n",
    "\n",
    "# 시뮬레이션 실행 (키 입력 없이 자동 실행)\n",
    "run_simulation()\n"
   ]
  }
 ],
 "metadata": {
  "kernelspec": {
   "display_name": "Python 3",
   "language": "python",
   "name": "python3"
  },
  "language_info": {
   "codemirror_mode": {
    "name": "ipython",
    "version": 3
   },
   "file_extension": ".py",
   "mimetype": "text/x-python",
   "name": "python",
   "nbconvert_exporter": "python",
   "pygments_lexer": "ipython3",
   "version": "3.13.1"
  }
 },
 "nbformat": 4,
 "nbformat_minor": 2
}
