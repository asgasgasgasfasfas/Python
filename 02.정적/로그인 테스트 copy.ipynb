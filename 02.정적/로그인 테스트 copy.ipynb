{
 "cells": [
  {
   "cell_type": "code",
   "execution_count": null,
   "metadata": {},
   "outputs": [
    {
     "name": "stdout",
     "output_type": "stream",
     "text": [
      "Requirement already satisfied: pandas in c:\\users\\jjg19\\appdata\\local\\programs\\python\\python313\\lib\\site-packages (2.2.3)Note: you may need to restart the kernel to use updated packages.\n"
     ]
    },
    {
     "name": "stderr",
     "output_type": "stream",
     "text": [
      "\n",
      "[notice] A new release of pip is available: 24.3.1 -> 25.0.1\n",
      "[notice] To update, run: python.exe -m pip install --upgrade pip\n"
     ]
    },
    {
     "name": "stdout",
     "output_type": "stream",
     "text": [
      "\n",
      "Requirement already satisfied: numpy>=1.26.0 in c:\\users\\jjg19\\appdata\\local\\programs\\python\\python313\\lib\\site-packages (from pandas) (2.2.2)\n",
      "Requirement already satisfied: python-dateutil>=2.8.2 in c:\\users\\jjg19\\appdata\\roaming\\python\\python313\\site-packages (from pandas) (2.9.0.post0)\n",
      "Requirement already satisfied: pytz>=2020.1 in c:\\users\\jjg19\\appdata\\local\\programs\\python\\python313\\lib\\site-packages (from pandas) (2024.2)\n",
      "Requirement already satisfied: tzdata>=2022.7 in c:\\users\\jjg19\\appdata\\local\\programs\\python\\python313\\lib\\site-packages (from pandas) (2025.1)\n",
      "Requirement already satisfied: six>=1.5 in c:\\users\\jjg19\\appdata\\roaming\\python\\python313\\site-packages (from python-dateutil>=2.8.2->pandas) (1.17.0)\n"
     ]
    }
   ],
   "source": [
    "pip install pandas\n"
   ]
  },
  {
   "cell_type": "code",
   "execution_count": 5,
   "metadata": {},
   "outputs": [
    {
     "name": "stdout",
     "output_type": "stream",
     "text": [
      "Requirement already satisfied: openpyxl in c:\\users\\jjg19\\appdata\\local\\programs\\python\\python313\\lib\\site-packages (3.1.5)\n",
      "Requirement already satisfied: et-xmlfile in c:\\users\\jjg19\\appdata\\local\\programs\\python\\python313\\lib\\site-packages (from openpyxl) (2.0.0)\n",
      "Note: you may need to restart the kernel to use updated packages.\n"
     ]
    },
    {
     "name": "stderr",
     "output_type": "stream",
     "text": [
      "\n",
      "[notice] A new release of pip is available: 24.3.1 -> 25.0.1\n",
      "[notice] To update, run: python.exe -m pip install --upgrade pip\n"
     ]
    }
   ],
   "source": [
    "pip install openpyxl"
   ]
  },
  {
   "cell_type": "code",
   "execution_count": 6,
   "metadata": {},
   "outputs": [
    {
     "name": "stdout",
     "output_type": "stream",
     "text": [
      "✅ 복사 버튼 클릭 완료!\n"
     ]
    }
   ],
   "source": [
    "from selenium import webdriver\n",
    "from selenium.webdriver.common.by import By\n",
    "from selenium.webdriver.common.keys import Keys\n",
    "import pyperclip\n",
    "import time\n",
    "import pandas as pd\n",
    "from selenium.webdriver.support.ui import WebDriverWait\n",
    "from selenium.webdriver.support import expected_conditions as EC\n",
    "from selenium.webdriver.common.action_chains import ActionChains\n",
    "\n",
    "# ✅ 브라우저 창 크기 설정\n",
    "WINDOW_WIDTH = 1000  # 창 너비\n",
    "WINDOW_HEIGHT = 1200  # 창 높이\n",
    "\n",
    "# ✅ 1. 첫 번째 브라우저 (왼쪽 화면 배치 - 뒤끝 콘솔)\n",
    "driver1 = webdriver.Chrome()\n",
    "driver1.set_window_size(WINDOW_WIDTH, WINDOW_HEIGHT)\n",
    "driver1.set_window_position(0, 0)  # 왼쪽 상단 위치\n",
    "driver1.get('https://console.thebackend.io/ko/login')\n",
    "time.sleep(1)\n",
    "\n",
    "# ✅ 웹페이지 축소 (80% 줌 적용)\n",
    "driver1.execute_script(\"document.body.style.transform = 'scale(0.8)'; document.body.style.transformOrigin = '0 0'; document.body.style.width = '125%';\")\n",
    "time.sleep(1)\n",
    "\n",
    "# ✅ 첫 번째 브라우저 로그인 (뒤끝 콘솔)\n",
    "id_input1 = driver1.find_element(By.ID, \"username\")\n",
    "pyperclip.copy(\"dksrufp0607@naver.com\")\n",
    "id_input1.send_keys(Keys.CONTROL, 'v')\n",
    "time.sleep(0.2)\n",
    "\n",
    "pw_input1 = driver1.find_element(By.ID, \"password\")\n",
    "pyperclip.copy(\"ghkfkd159!\")\n",
    "pw_input1.send_keys(Keys.CONTROL, 'v')\n",
    "time.sleep(0.2)\n",
    "\n",
    "login_button1 = driver1.find_element(By.CSS_SELECTOR, 'button[type=\"submit\"]')\n",
    "login_button1.click()\n",
    "time.sleep(2)\n",
    "\n",
    "article_url = 'https://console.thebackend.io/ko/project/1ea3f14d34e89530ea88b3245bc82dc17d5f52ce1554049f19fce9219a847cfce18bb8891c9ffe90bc65e2b9a3b981853fc5513c1dd200afc9590ba6bfd5fced4230647d25328849e0917641/baseRank/ranking/25d8b650-0393-11ef-8d15-0bec9e1c049d/current'\n",
    "driver1.get(article_url)\n",
    "\n",
    "time.sleep(2)\n",
    "\n",
    "try:\n",
    "    copy_button = WebDriverWait(driver1, 10).until(\n",
    "        EC.presence_of_element_located((By.XPATH, '//button[contains(@class, \"MuiIconButton-root\")]'))\n",
    "    )\n",
    "\n",
    "    # ✅ 스크롤 이동 (요소가 보이도록)\n",
    "    driver1.execute_script(\"arguments[0].scrollIntoView(true);\", copy_button)\n",
    "    time.sleep(1)  # 스크롤 후 대기\n",
    "\n",
    "    # ✅ JavaScript로 강제 클릭\n",
    "    driver1.execute_script(\"arguments[0].click();\", copy_button)\n",
    "    print(\"✅ 복사 버튼 클릭 완료!\")\n",
    "\n",
    "except Exception as e:\n",
    "    print(f\"⚠️ 복사 버튼 클릭 실패: {e}\")\n",
    "\n",
    "time.sleep(2)\n"
   ]
  },
  {
   "cell_type": "code",
   "execution_count": null,
   "metadata": {},
   "outputs": [],
   "source": []
  }
 ],
 "metadata": {
  "kernelspec": {
   "display_name": "Python 3",
   "language": "python",
   "name": "python3"
  },
  "language_info": {
   "codemirror_mode": {
    "name": "ipython",
    "version": 3
   },
   "file_extension": ".py",
   "mimetype": "text/x-python",
   "name": "python",
   "nbconvert_exporter": "python",
   "pygments_lexer": "ipython3",
   "version": "3.13.1"
  }
 },
 "nbformat": 4,
 "nbformat_minor": 2
}
