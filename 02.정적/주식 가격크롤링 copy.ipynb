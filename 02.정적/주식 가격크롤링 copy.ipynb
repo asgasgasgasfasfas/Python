{
 "cells": [
  {
   "cell_type": "code",
   "execution_count": 5,
   "metadata": {},
   "outputs": [
    {
     "name": "stdout",
     "output_type": "stream",
     "text": [
      "모든 종목의 변동률 데이터가 '딥시크크.xlsx'로 저장되었습니다.\n"
     ]
    }
   ],
   "source": [
    "import requests\n",
    "from bs4 import BeautifulSoup\n",
    "import pandas as pd\n",
    "\n",
    "# 종목명과 종목코드 딕셔너리\n",
    "stocks = {\n",
    "    \"엠케이전자\": \"033160\",\n",
    "    \"피델릭스\": \"032580\",\n",
    "    \"GRT\": \"900290\",\n",
    "    \"플리토\": \"300080\",\n",
    "    \"라온테크\": \"232680\",\n",
    "    \"인스웨이브시스템즈\": \"419260\",\n",
    "    \"코난테크놀로지\": \"402030\",\n",
    "    \"솔트룩스\": \"304100\",\n",
    "    \"바이브컴퍼니\": \"301300\",\n",
    "    \"마음AI\": \"377480\",\n",
    "    \"오브젠\": \"417860\",\n",
    "    \"모니터랩\": \"434480\",\n",
    "}\n",
    "\n",
    "# 요청 헤더 설정\n",
    "headers = {\n",
    "    'User-Agent': 'Mozilla/5.0 (Windows NT 10.0; Win64; x64) AppleWebKit/537.36 (KHTML, like Gecko) Chrome/114.0.0.0 Safari/537.36'\n",
    "}\n",
    "\n",
    "# 데이터 저장용 딕셔너리 (날짜를 키로 사용)\n",
    "data_dict = {}\n",
    "\n",
    "# 모든 종목 데이터 수집\n",
    "for stock_name, stock_code in stocks.items():\n",
    "    for page in range(1, 2):  # 1부터 4페이지까지 조회\n",
    "        url = f\"https://finance.naver.com/item/frgn.naver?code={stock_code}&page={page}\"\n",
    "        response = requests.get(url, headers=headers)\n",
    "\n",
    "        if response.status_code == 200:\n",
    "            soup = BeautifulSoup(response.text, 'html.parser')\n",
    "            rows = soup.select(\"table.type2 tr\")\n",
    "\n",
    "            for row in rows:\n",
    "                cols = row.select(\"td\")  # 테이블의 각 열(td) 추출\n",
    "                \n",
    "                if len(cols) >= 9:  # 데이터가 존재하는 행인지 확인\n",
    "                    date = cols[0].text.strip()  # 날짜\n",
    "                    change_rate = cols[3].text.strip().replace('%', '')  # 변동률\n",
    "\n",
    "                    if date and change_rate:  # 유효한 데이터만 추가\n",
    "                        if date not in data_dict:\n",
    "                            data_dict[date] = {}\n",
    "                        \n",
    "                        data_dict[date][f\"{stock_name}\"] = change_rate\n",
    "        else:\n",
    "            print(f\"{stock_name}의 페이지 {page}를 불러오지 못했습니다. 상태 코드:\", response.status_code)\n",
    "\n",
    "# 딕셔너리를 데이터프레임으로 변환\n",
    "df = pd.DataFrame.from_dict(data_dict, orient='index')\n",
    "df.index.name = '날짜'\n",
    "\n",
    "# 날짜 순 정렬\n",
    "df = df.sort_index(ascending=True)\n",
    "\n",
    "# 엑셀로 저장\n",
    "file_name = \"딥시크크.xlsx\"\n",
    "df.to_excel(file_name)\n",
    "\n",
    "print(f\"모든 종목의 변동률 데이터가 '{file_name}'로 저장되었습니다.\")\n"
   ]
  }
 ],
 "metadata": {
  "kernelspec": {
   "display_name": "Python 3",
   "language": "python",
   "name": "python3"
  },
  "language_info": {
   "codemirror_mode": {
    "name": "ipython",
    "version": 3
   },
   "file_extension": ".py",
   "mimetype": "text/x-python",
   "name": "python",
   "nbconvert_exporter": "python",
   "pygments_lexer": "ipython3",
   "version": "3.13.1"
  }
 },
 "nbformat": 4,
 "nbformat_minor": 2
}
