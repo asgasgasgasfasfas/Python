{
 "cells": [
  {
   "cell_type": "code",
   "execution_count": 3,
   "metadata": {},
   "outputs": [
    {
     "name": "stdout",
     "output_type": "stream",
     "text": [
      "오류 발생: Message: element not interactable\n",
      "  (Session info: chrome=132.0.6834.160)\n",
      "Stacktrace:\n",
      "\tGetHandleVerifier [0x00007FF768FB02F5+28725]\n",
      "\t(No symbol) [0x00007FF768F12AE0]\n",
      "\t(No symbol) [0x00007FF768DA4F39]\n",
      "\t(No symbol) [0x00007FF768DFA7D4]\n",
      "\t(No symbol) [0x00007FF768DEC6B4]\n",
      "\t(No symbol) [0x00007FF768E1FFAA]\n",
      "\t(No symbol) [0x00007FF768DEBF86]\n",
      "\t(No symbol) [0x00007FF768E201C0]\n",
      "\t(No symbol) [0x00007FF768E40181]\n",
      "\t(No symbol) [0x00007FF768E1FD53]\n",
      "\t(No symbol) [0x00007FF768DEA0E3]\n",
      "\t(No symbol) [0x00007FF768DEB471]\n",
      "\tGetHandleVerifier [0x00007FF7692DF30D+3366989]\n",
      "\tGetHandleVerifier [0x00007FF7692F12F0+3440688]\n",
      "\tGetHandleVerifier [0x00007FF7692E78FD+3401277]\n",
      "\tGetHandleVerifier [0x00007FF76907AAAB+858091]\n",
      "\t(No symbol) [0x00007FF768F1E74F]\n",
      "\t(No symbol) [0x00007FF768F1A304]\n",
      "\t(No symbol) [0x00007FF768F1A49D]\n",
      "\t(No symbol) [0x00007FF768F08B69]\n",
      "\tBaseThreadInitThunk [0x00007FFE5459257D+29]\n",
      "\tRtlUserThreadStart [0x00007FFE5596AF08+40]\n",
      "\n",
      "트레이딩뷰 창을 확인하고 직접 조작하세요.\n"
     ]
    }
   ],
   "source": [
    "from selenium import webdriver\n",
    "from selenium.webdriver.common.by import By\n",
    "from selenium.webdriver.common.keys import Keys\n",
    "import time\n",
    "\n",
    "# TradingView 차트 URL\n",
    "TRADINGVIEW_URL = \"https://kr.tradingview.com/chart/\"\n",
    "\n",
    "# 비교할 종목 리스트 (KRX 종목코드 형식)\n",
    "stocks = [\n",
    "    \"KRX:006340\", \"KRX:009540\", \"KRX:011200\", \"KRX:077970\", \"KRX:329180\",\n",
    "    \"KRX:214680\", \"KRX:010140\", \"KRX:095190\", \"KRX:045100\", \"KRX:333430\",\n",
    "    \"KRX:014940\", \"KRX:073010\", \"KRX:017960\", \"KRX:033500\", \"KRX:096350\",\n",
    "    \"KRX:085310\", \"KRX:133820\", \"KRX:097230\", \"KRX:075580\", \"KRX:064820\",\n",
    "    \"KRX:108380\", \"KRX:099410\", \"KRX:092460\", \"KRX:101930\", \"KRX:105740\",\n",
    "    \"KRX:023160\", \"KRX:014620\", \"KRX:086670\", \"KRX:013030\"\n",
    "]\n",
    "\n",
    "# Selenium WebDriver 설정 (Chrome 사용)\n",
    "options = webdriver.ChromeOptions()\n",
    "options.add_argument(\"--start-maximized\")  # 브라우저 최대화\n",
    "driver = webdriver.Chrome(options=options)\n",
    "\n",
    "try:\n",
    "    # TradingView 차트 페이지 열기\n",
    "    driver.get(TRADINGVIEW_URL)\n",
    "    time.sleep(5)  # 페이지 로딩 대기\n",
    "\n",
    "    for stock in stocks:\n",
    "        # 🔍 검색 아이콘 (SVG 버튼) 클릭하여 검색창 활성화\n",
    "        search_icon = driver.find_element(By.CSS_SELECTOR, \"span[role='img'].icon-GwQQdU8S\")\n",
    "        search_icon.click()\n",
    "        time.sleep(1)\n",
    "\n",
    "        # 검색 입력 필드 찾기\n",
    "        search_box = driver.find_element(By.XPATH, \"//input[@type='text']\")\n",
    "        search_box.send_keys(stock)\n",
    "        time.sleep(1)\n",
    "        search_box.send_keys(Keys.ENTER)\n",
    "        time.sleep(2)  # 종목 추가 대기\n",
    "\n",
    "    print(\"모든 종목 추가 완료!\")\n",
    "\n",
    "except Exception as e:\n",
    "    print(f\"오류 발생: {e}\")\n",
    "\n",
    "finally:\n",
    "    print(\"트레이딩뷰 창을 확인하고 직접 조작하세요.\")\n"
   ]
  }
 ],
 "metadata": {
  "kernelspec": {
   "display_name": "Python 3",
   "language": "python",
   "name": "python3"
  },
  "language_info": {
   "codemirror_mode": {
    "name": "ipython",
    "version": 3
   },
   "file_extension": ".py",
   "mimetype": "text/x-python",
   "name": "python",
   "nbconvert_exporter": "python",
   "pygments_lexer": "ipython3",
   "version": "3.13.1"
  }
 },
 "nbformat": 4,
 "nbformat_minor": 2
}
