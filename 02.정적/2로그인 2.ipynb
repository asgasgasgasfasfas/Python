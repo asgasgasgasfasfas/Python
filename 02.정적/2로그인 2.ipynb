{
 "cells": [
  {
   "cell_type": "code",
   "execution_count": 251,
   "metadata": {},
   "outputs": [
    {
     "name": "stdout",
     "output_type": "stream",
     "text": [
      "Requirement already satisfied: pandas in c:\\users\\jjg19\\appdata\\local\\programs\\python\\python313\\lib\\site-packages (2.2.3)\n",
      "Requirement already satisfied: numpy>=1.26.0 in c:\\users\\jjg19\\appdata\\local\\programs\\python\\python313\\lib\\site-packages (from pandas) (2.2.2)\n",
      "Requirement already satisfied: python-dateutil>=2.8.2 in c:\\users\\jjg19\\appdata\\roaming\\python\\python313\\site-packages (from pandas) (2.9.0.post0)\n",
      "Requirement already satisfied: pytz>=2020.1 in c:\\users\\jjg19\\appdata\\local\\programs\\python\\python313\\lib\\site-packages (from pandas) (2024.2)\n",
      "Requirement already satisfied: tzdata>=2022.7 in c:\\users\\jjg19\\appdata\\local\\programs\\python\\python313\\lib\\site-packages (from pandas) (2025.1)\n",
      "Requirement already satisfied: six>=1.5 in c:\\users\\jjg19\\appdata\\roaming\\python\\python313\\site-packages (from python-dateutil>=2.8.2->pandas) (1.17.0)\n",
      "Note: you may need to restart the kernel to use updated packages.\n"
     ]
    },
    {
     "name": "stderr",
     "output_type": "stream",
     "text": [
      "\n",
      "[notice] A new release of pip is available: 24.3.1 -> 25.0.1\n",
      "[notice] To update, run: python.exe -m pip install --upgrade pip\n"
     ]
    }
   ],
   "source": [
    "pip install pandas\n"
   ]
  },
  {
   "cell_type": "code",
   "execution_count": 252,
   "metadata": {},
   "outputs": [
    {
     "name": "stdout",
     "output_type": "stream",
     "text": [
      "Requirement already satisfied: openpyxl in c:\\users\\jjg19\\appdata\\local\\programs\\python\\python313\\lib\\site-packages (3.1.5)Note: you may need to restart the kernel to use updated packages.\n"
     ]
    },
    {
     "name": "stderr",
     "output_type": "stream",
     "text": [
      "\n",
      "[notice] A new release of pip is available: 24.3.1 -> 25.0.1\n",
      "[notice] To update, run: python.exe -m pip install --upgrade pip\n"
     ]
    },
    {
     "name": "stdout",
     "output_type": "stream",
     "text": [
      "\n",
      "Requirement already satisfied: et-xmlfile in c:\\users\\jjg19\\appdata\\local\\programs\\python\\python313\\lib\\site-packages (from openpyxl) (2.0.0)\n"
     ]
    }
   ],
   "source": [
    "pip install openpyxl"
   ]
  },
  {
   "cell_type": "code",
   "execution_count": 253,
   "metadata": {},
   "outputs": [
    {
     "data": {
      "text/plain": [
       "[['카데고리1', '상품명1', '링크1', '가격1']]"
      ]
     },
     "execution_count": 253,
     "metadata": {},
     "output_type": "execute_result"
    }
   ],
   "source": [
    "data = []\n",
    "data.append(['카데고리1','상품명1','링크1', '가격1'])\n",
    "data"
   ]
  },
  {
   "cell_type": "code",
   "execution_count": 254,
   "metadata": {},
   "outputs": [],
   "source": [
    "from selenium import webdriver\n",
    "from selenium.webdriver.common.by import By\n",
    "from selenium.webdriver.common.keys import Keys\n",
    "import pyperclip\n",
    "import time\n",
    "\n",
    "# ✅ 브라우저 창 크기 설정\n",
    "WINDOW_WIDTH = 2000  # 창 너비\n",
    "WINDOW_HEIGHT = 1000  # 창 높이\n",
    "\n",
    "# ✅ 1. 첫 번째 브라우저 (왼쪽 화면 배치 - 뒤끝 콘솔)\n",
    "driver1 = webdriver.Chrome()\n",
    "driver1.set_window_size(WINDOW_WIDTH, WINDOW_HEIGHT)\n",
    "driver1.set_window_position(0, 0)  # 왼쪽 상단 위치\n",
    "driver1.get('https://console.thebackend.io/ko/login')\n",
    "time.sleep(1)\n",
    "\n",
    "\n",
    "# ✅ 첫 번째 브라우저 로그인 (뒤끝 콘솔)\n",
    "id_input1 = driver1.find_element(By.ID, \"username\")\n",
    "pyperclip.copy(\"dksrufp0607@naver.com\")\n",
    "id_input1.send_keys(Keys.CONTROL, 'v')\n",
    "time.sleep(0.2)\n",
    "\n",
    "pw_input1 = driver1.find_element(By.ID, \"password\")\n",
    "pyperclip.copy(\"ghkfkd159!\")\n",
    "pw_input1.send_keys(Keys.CONTROL, 'v')\n",
    "time.sleep(0.2)\n",
    "\n",
    "login_button1 = driver1.find_element(By.CSS_SELECTOR, 'button[type=\"submit\"]')\n",
    "login_button1.click()\n",
    "time.sleep(2)\n",
    "\n",
    "article_url = 'https://console.thebackend.io/ko/project/1ea3f14d34e89530ea88b3245bc82dc17d5f52ce1554049f19fce9219a847cfce18bb8891c9ffe90bc65e2b9a3b981853fc5513c1dd200afc9590ba6bfd5fced4230647d25328849e0917641/baseGameInfo/data'\n",
    "driver1.get(article_url)\n",
    "\n",
    "time.sleep(2)\n",
    "\n",
    "\n"
   ]
  },
  {
   "cell_type": "code",
   "execution_count": 255,
   "metadata": {},
   "outputs": [],
   "source": [
    "import pyperclip\n",
    "import time\n",
    "import pandas as pd\n",
    "from selenium.webdriver.support.ui import WebDriverWait\n",
    "from selenium.webdriver.support import expected_conditions as EC\n",
    "\n",
    "button = WebDriverWait(driver1, 10).until(\n",
    "    EC.element_to_be_clickable((By.XPATH, '//button[contains(text(), \"확인\")]'))\n",
    ")\n",
    "button.click()\n",
    "\n",
    "time.sleep(1)\n"
   ]
  },
  {
   "cell_type": "code",
   "execution_count": 256,
   "metadata": {},
   "outputs": [
    {
     "name": "stdout",
     "output_type": "stream",
     "text": [
      "🔹 CSV B2 값: 0831d8a0-c410-11ef-ac3c-67eaa6cff280\n",
      "🔹 CSV B2 값: 슈바니\n"
     ]
    }
   ],
   "source": [
    "    if len(df) > 1 and len(df.columns) > 1:\n",
    "        b2_value = df.iloc[0, 5]  # B2 셀 값 가져오기 (0-based index)\n",
    "        b3_value = df.iloc[0, 2] # 0이 기준 이거 배열 설정\n",
    "        print(f\"🔹 CSV B2 값: {b2_value}\")\n",
    "        print(f\"🔹 CSV B2 값: {b3_value}\")\n",
    "    else:\n",
    "        print(\"⚠️ CSV 파일이 비어있거나 잘못된 형식입니다.\")"
   ]
  },
  {
   "cell_type": "code",
   "execution_count": 257,
   "metadata": {},
   "outputs": [
    {
     "name": "stdout",
     "output_type": "stream",
     "text": [
      "✅ 테이블 드롭다운 클릭 완료!\n"
     ]
    }
   ],
   "source": [
    "    # ✅ 테이블 드롭다운 클릭\n",
    "table_dropdown = WebDriverWait(driver1, 10).until(\n",
    "        EC.element_to_be_clickable((By.XPATH, '//div[contains(@class, \"_manageInfo-data_1rntr_71\")]'))\n",
    ")\n",
    "table_dropdown.click()\n",
    "print(\"✅ 테이블 드롭다운 클릭 완료!\")"
   ]
  },
  {
   "cell_type": "code",
   "execution_count": 258,
   "metadata": {},
   "outputs": [
    {
     "name": "stdout",
     "output_type": "stream",
     "text": [
      "✅ BASE_DATA 선택 완료!\n"
     ]
    }
   ],
   "source": [
    "    # ✅ \"BASE_DATA\" 옵션 클릭\n",
    "base_data_option = WebDriverWait(driver1, 10).until(\n",
    "        EC.element_to_be_clickable((By.XPATH, '//div[@role=\"option\"][span[text()=\"BASE_DATA\"]]'))\n",
    ")\n",
    "base_data_option.click()\n",
    "print(\"✅ BASE_DATA 선택 완료!\")\n",
    "\n",
    "time.sleep(1)\n"
   ]
  },
  {
   "cell_type": "code",
   "execution_count": 259,
   "metadata": {},
   "outputs": [
    {
     "name": "stdout",
     "output_type": "stream",
     "text": [
      "✅ 상세 검색 클릭 완료!\n"
     ]
    }
   ],
   "source": [
    "    # ✅ \"상세 검색\" 버튼 클릭\n",
    "    detail_search_button = WebDriverWait(driver1, 10).until(\n",
    "        EC.element_to_be_clickable((By.XPATH, '//p[contains(text(), \"상세 검색\")]'))\n",
    "    )\n",
    "    detail_search_button.click()\n",
    "    print(\"✅ 상세 검색 클릭 완료!\")\n",
    "time.sleep(1)"
   ]
  },
  {
   "cell_type": "code",
   "execution_count": 260,
   "metadata": {},
   "outputs": [
    {
     "name": "stdout",
     "output_type": "stream",
     "text": [
      "✅ B2 값 입력 완료!\n"
     ]
    }
   ],
   "source": [
    "    # ✅ B2 값 입력\n",
    "    search_input = WebDriverWait(driver1, 10).until(\n",
    "        EC.element_to_be_clickable((By.NAME, \"defaultSearchValue\"))\n",
    "    )\n",
    "    search_input.clear()\n",
    "    search_input.send_keys(b2_value)\n",
    "    print(\"✅ B2 값 입력 완료!\")"
   ]
  },
  {
   "cell_type": "code",
   "execution_count": null,
   "metadata": {},
   "outputs": [
    {
     "name": "stdout",
     "output_type": "stream",
     "text": [
      "✅ 검색 버튼 클릭 완료!\n"
     ]
    }
   ],
   "source": [
    "# ✅ \"검색\" 버튼 클릭\n",
    "search_button = WebDriverWait(driver1, 10).until(\n",
    "    EC.element_to_be_clickable((By.XPATH, '//button[contains(@class, \"ui medium positive button\") and @type=\"submit\"]'))\n",
    ")\n",
    "search_button.click()\n",
    "print(\"✅ 검색 버튼 클릭 완료!\")\n",
    "time.sleep(1)\n"
   ]
  },
  {
   "cell_type": "code",
   "execution_count": null,
   "metadata": {},
   "outputs": [
    {
     "name": "stdout",
     "output_type": "stream",
     "text": [
      "✅ UUID 클릭 완료!\n"
     ]
    }
   ],
   "source": [
    "    # ✅ UUID 값 클릭\n",
    "    uuid_element = WebDriverWait(driver1, 10).until(\n",
    "        EC.element_to_be_clickable((By.XPATH, '//p[contains(@class, \"_link_a1mor_113\")]'))\n",
    "    )\n",
    "    uuid_element.click()\n",
    "    print(\"✅ UUID 클릭 완료!\")\n",
    "time.sleep(1)"
   ]
  },
  {
   "cell_type": "code",
   "execution_count": 270,
   "metadata": {},
   "outputs": [
    {
     "name": "stdout",
     "output_type": "stream",
     "text": [
      "✅ 수정 버튼 클릭 완료!\n"
     ]
    }
   ],
   "source": [
    "# ✅ \"수정\" 버튼 클릭\n",
    "edit_button = WebDriverWait(driver1, 10).until(\n",
    "    EC.element_to_be_clickable((By.XPATH, '//button[contains(@class, \"ui mini primary button\") and text()=\"수정\"]'))\n",
    ")\n",
    "edit_button.click()\n",
    "print(\"✅ 수정 버튼 클릭 완료!\")"
   ]
  },
  {
   "cell_type": "code",
   "execution_count": 271,
   "metadata": {},
   "outputs": [
    {
     "name": "stdout",
     "output_type": "stream",
     "text": [
      "✅ 복사된 값: 60\n"
     ]
    }
   ],
   "source": [
    "# ✅ 텍스트 영역 클릭 및 값 복사\n",
    "text_area = WebDriverWait(driver1, 10).until(\n",
    "    EC.presence_of_element_located((By.NAME, \"dataSet.0.dataValue\"))\n",
    ")\n",
    "text_area.click()\n",
    "copied_value = text_area.get_attribute(\"value\")  # 현재 입력된 값 가져오기\n",
    "print(f\"✅ 복사된 값: {copied_value}\")\n"
   ]
  }
 ],
 "metadata": {
  "kernelspec": {
   "display_name": "Python 3",
   "language": "python",
   "name": "python3"
  },
  "language_info": {
   "codemirror_mode": {
    "name": "ipython",
    "version": 3
   },
   "file_extension": ".py",
   "mimetype": "text/x-python",
   "name": "python",
   "nbconvert_exporter": "python",
   "pygments_lexer": "ipython3",
   "version": "3.13.1"
  }
 },
 "nbformat": 4,
 "nbformat_minor": 2
}
